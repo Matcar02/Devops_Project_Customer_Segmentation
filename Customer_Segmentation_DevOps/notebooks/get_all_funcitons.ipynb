{
 "cells": [
  {
   "cell_type": "code",
   "execution_count": 1,
   "metadata": {},
   "outputs": [
    {
     "name": "stdout",
     "output_type": "stream",
     "text": [
      "['prepare_data', 'drop_columns', 'encode_df', 'get_dummies_df', 'drop_c_id', 'clean_data', 'get_frequencies', 'get_recency', 'concatenate_dataframes', 'get_monetary', 'visualize_data', 'elbow_method', 'plot_average_spending_by_frequency', 'plot_payment_value_distribution', 'describe_dataset', 'get_best_kmeans_params', 'clustering', 'plot_clusters', 'choose', 'silhouette_score_f', 'dendogram', 'agglomerative_clustering', 'spectral_clustering', 'visualize_spectral_clusters', 'show_silscores', 'kmeans_summary', 'cluster_summary', 'segments_insights', 'corr', 'installments_analysis', 'customers_insights', 'recency', 'payments_insights', 'prod_insights', 'customer_geography', 'encoding_PCA', 'pca_preprocessing', 'pca_ncomponents', 'pca', 'pca_kmeans', 'pca_components', 'pca_insights', 'pca_insights2', 'ann_autoencoder', 'ann_fit_predict', 'conc_pca_ann', 'ann_clusters', 'ann_insigths', 'pca_vs_spectral']\n"
     ]
    }
   ],
   "source": [
    "import ast\n",
    "\n",
    "def get_function_names_from_file(file_path):\n",
    "    with open(file_path, 'r') as f:\n",
    "        node = ast.parse(f.read())\n",
    "        \n",
    "    return [n.name for n in ast.walk(node) if isinstance(n, ast.FunctionDef)]\n",
    "\n",
    "file_path = 'main.py'\n",
    "function_names = get_function_names_from_file(file_path)\n",
    "print(function_names)\n"
   ]
  }
 ],
 "metadata": {
  "kernelspec": {
   "display_name": "env_devops_project",
   "language": "python",
   "name": "python3"
  },
  "language_info": {
   "codemirror_mode": {
    "name": "ipython",
    "version": 3
   },
   "file_extension": ".py",
   "mimetype": "text/x-python",
   "name": "python",
   "nbconvert_exporter": "python",
   "pygments_lexer": "ipython3",
   "version": "3.11.5"
  },
  "orig_nbformat": 4
 },
 "nbformat": 4,
 "nbformat_minor": 2
}
