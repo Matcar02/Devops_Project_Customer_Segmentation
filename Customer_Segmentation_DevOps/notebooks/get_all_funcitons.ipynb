{
 "cells": [
  {
   "cell_type": "code",
   "execution_count": 1,
   "metadata": {},
   "outputs": [
    {
     "name": "stdout",
     "output_type": "stream",
     "text": [
      "['prepare_data', 'drop_columns', 'encode_df', 'get_dummies_df', 'drop_c_id', 'clean_data', 'get_frequencies', 'get_recency', 'concatenate_dataframes', 'get_monetary', 'visualize_data', 'elbow_method', 'plot_average_spending_by_frequency', 'plot_payment_value_distribution', 'describe_dataset', 'get_best_kmeans_params', 'clustering', 'plot_clusters', 'choose', 'silhouette_score_f', 'dendogram', 'agglomerative_clustering', 'spectral_clustering', 'visualize_spectral_clusters', 'show_silscores', 'kmeans_summary', 'cluster_summary', 'segments_insights', 'corr', 'installments_analysis', 'customers_insights', 'recency', 'payments_insights', 'prod_insights', 'customer_geography', 'encoding_PCA', 'pca_preprocessing', 'pca_ncomponents', 'pca', 'pca_kmeans', 'pca_components', 'pca_insights', 'pca_insights2', 'ann_autoencoder', 'ann_fit_predict', 'conc_pca_ann', 'ann_clusters', 'ann_insigths', 'pca_vs_spectral']\n"
     ]
    }
   ],
   "source": [
    "import ast\n",
    "\n",
    "def get_function_names_from_file(file_path):\n",
    "    with open(file_path, 'r') as f:\n",
    "        node = ast.parse(f.read())\n",
    "        \n",
    "    return [n.name for n in ast.walk(node) if isinstance(n, ast.FunctionDef)]\n",
    "\n",
    "file_path = 'main.py'\n",
    "function_names = get_function_names_from_file(file_path)\n",
    "print(function_names)\n"
   ]
  },
  {
   "cell_type": "code",
   "execution_count": 1,
   "metadata": {},
   "outputs": [
    {
     "name": "stdout",
     "output_type": "stream",
     "text": [
      "prepare_data(filepath)\n",
      "drop_columns(df)\n",
      "encode_df(df)\n",
      "get_dummies_df(df)\n",
      "drop_c_id(df)\n",
      "clean_data(df)\n",
      "get_frequencies(df)\n",
      "get_recency(df)\n",
      "concatenate_dataframes(recency, monetary, frequencies)\n",
      "get_monetary(df)\n",
      "visualize_data(rfm_dataset)\n",
      "elbow_method(rfm_dataset)\n",
      "plot_average_spending_by_frequency(rfm_dataset)\n",
      "plot_payment_value_distribution(rfm_dataset)\n",
      "describe_dataset(rfm_dataset)\n",
      "get_best_kmeans_params(X)\n",
      "clustering(clusters1, algorithm1, rand_state, X, df)\n",
      "plot_clusters(rfmcopy, clusters1)\n",
      "choose(rfm_dataset, X)\n",
      "silhouette_score_f(X, y, method)\n",
      "dendogram(X)\n",
      "agglomerative_clustering(X, rfmcopy)\n",
      "spectral_clustering(X)\n",
      "visualize_spectral_clusters(X, sp)\n",
      "show_silscores(silscores)\n",
      "kmeans_summary(rfmcopy)\n",
      "cluster_summary(df, column_name)\n",
      "segments_insights(rfmcopy)\n",
      "corr(df)\n",
      "installments_analysis(df, rfmcopy)\n",
      "customers_insights(paydf)\n",
      "recency(recency)\n",
      "payments_insights(df)\n",
      "prod_insights(df)\n",
      "customer_geography(df)\n",
      "encoding_PCA(df, rfm_dataset)\n",
      "pca_preprocessing(newdf)\n",
      "pca_ncomponents(sc_features)\n",
      "pca(X_)\n",
      "pca_kmeans(sc_features, scores)\n",
      "pca_components(segmkmeans, kmeanspca, rfmcopy)\n",
      "pca_insights(dfpca)\n",
      "pca_insights2(df, dfpca)\n",
      "ann_autoencoder(X_)\n",
      "ann_fit_predict(X_, autoencoder, encoder)\n",
      "conc_pca_ann(rfm_dataset, kmeansann, rfmcopy)\n",
      "ann_clusters(dfann, clustersann)\n",
      "ann_insigths(dfann, dfpcaf)\n",
      "pca_vs_spectral(dfpcaf, insights)\n"
     ]
    }
   ],
   "source": [
    "import ast\n",
    "\n",
    "def get_functions_with_parameters_from_file(file_path):\n",
    "    with open(file_path, 'r') as f:\n",
    "        node = ast.parse(f.read())\n",
    "\n",
    "    functions = []\n",
    "    for n in ast.walk(node):\n",
    "        if isinstance(n, ast.FunctionDef):\n",
    "            function_name = n.name\n",
    "            params = [arg.arg for arg in n.args.args]\n",
    "            functions.append((function_name, params))\n",
    "            \n",
    "    return functions\n",
    "\n",
    "file_path = 'main.py'\n",
    "functions = get_functions_with_parameters_from_file(file_path)\n",
    "for function_name, params in functions:\n",
    "    print(f\"{function_name}({', '.join(params)})\")\n"
   ]
  },
  {
   "cell_type": "code",
   "execution_count": null,
   "metadata": {},
   "outputs": [],
   "source": [
    "{\n",
    "    \"data_path\": \"data/external/customer_segmentation.csv\"\n",
    "}"
   ]
  }
 ],
 "metadata": {
  "kernelspec": {
   "display_name": "env_devops_project",
   "language": "python",
   "name": "python3"
  },
  "language_info": {
   "codemirror_mode": {
    "name": "ipython",
    "version": 3
   },
   "file_extension": ".py",
   "mimetype": "text/x-python",
   "name": "python",
   "nbconvert_exporter": "python",
   "pygments_lexer": "ipython3",
   "version": "3.11.5"
  },
  "orig_nbformat": 4
 },
 "nbformat": 4,
 "nbformat_minor": 2
}
